{
 "cells": [
  {
   "cell_type": "code",
   "execution_count": null,
   "metadata": {},
   "outputs": [],
   "source": [
    "# path管理\n",
    "import urllib\n",
    "from pathlib import Path\n",
    "import os\n",
    "\n",
    "# arxiv からデータの取得をする\n",
    "import arxiv\n",
    "\n",
    "# terminalにprintする際の補助用パッケージ\n",
    "import pprint\n",
    "from icecream import ic\n",
    "\n",
    "# jsonファイルを操作するためのパッケージ\n",
    "import json\n"
   ]
  },
  {
   "cell_type": "markdown",
   "metadata": {},
   "source": [
    "### $\\circ$ arxivから情報を取得する\n",
    "\n",
    "使用パッケージ`arxiv`  (reference [1]を参照)\n",
    "\n",
    "```shell\n",
    "$ python -m pip install arxiv\n",
    "```\n",
    "\n",
    "`pyenv`環境下で実行\n",
    "\n",
    "\n",
    "#### 検索ワードで論文メタデータを取得\n",
    "\n",
    "`arxiv.Search()`で取得する"
   ]
  },
  {
   "cell_type": "code",
   "execution_count": 1,
   "metadata": {},
   "outputs": [
    {
     "name": "stdout",
     "output_type": "stream",
     "text": [
      "Bubbles in a box: Eliminating edge nucleation in cold-atom simulators of vacuum decay\n",
      "Observation of non-Hermitian dislocation bound states and dislocation skin effects\n",
      "Logarithmic entanglement lightcone from eigenstate correlations in the many-body localised phase\n",
      "Fractional attractors in light of the latest ACT observations\n",
      "Quantum theory does not need complex numbers\n",
      "Suppression of decoherence dynamics by a dissipative bath at strong coupling\n",
      "Quantum maximally symmetric space-times\n",
      "Beating full state tomography for unentangled spectrum estimation\n",
      "Interpreting gravitational fields of Topologically Massive Gravity using geodesic deviation\n",
      "Robust entangled photon generation by Floquet-engineered two-colour pulses\n",
      "['Bubbles in a box: Eliminating edge nucleation in cold-atom simulators of vacuum decay', 'Observation of non-Hermitian dislocation bound states and dislocation skin effects', 'Logarithmic entanglement lightcone from eigenstate correlations in the many-body localised phase', 'Fractional attractors in light of the latest ACT observations', 'Quantum theory does not need complex numbers', 'Suppression of decoherence dynamics by a dissipative bath at strong coupling', 'Quantum maximally symmetric space-times', 'Beating full state tomography for unentangled spectrum estimation', 'Interpreting gravitational fields of Topologically Massive Gravity using geodesic deviation', 'Robust entangled photon generation by Floquet-engineered two-colour pulses']\n",
      "http://arxiv.org/abs/cond-mat/0603029v1\n",
      "From stripe to checkerboard order on the square lattice in the presence of quenched disorder\n"
     ]
    }
   ],
   "source": [
    "import arxiv\n",
    "\n",
    "# Construct the default API client.\n",
    "client = arxiv.Client()\n",
    "\n",
    "# 検索結果は最も最新のものが抽出される, 以下の例ではquantumにマッチングされた記事情報が'search'にある\n",
    "search = arxiv.Search(\n",
    "  query = \"quantum\", # 検索キーワード\n",
    "  max_results = 10, #検索取得数 (max 300,000)\n",
    "  sort_by = arxiv.SortCriterion.SubmittedDate # 検索順(?)\n",
    ")\n",
    "\n",
    "results = client.results(search)\n",
    "\n",
    "# `results` is a generator; you can iterate over its elements one by one...\n",
    "for r in results:\n",
    "  print(r.title)\n",
    "# ...or exhaust it into a list. Careful: this is slow for large results sets.\n",
    "results = client.results(search)\n",
    "all_results = list(results)\n",
    "print([r.title for r in all_results])\n",
    "\n",
    "# 詳細に情報を得たい場合はarxiv API をみてください\n",
    "# https://arxiv.org/help/api/user-manual#query_details\n",
    "search = arxiv.Search(query = \"au:del_maestro AND ti:checkerboard\")\n",
    "first_result = next(client.results(search))\n",
    "print(first_result)\n",
    "\n",
    "# Search for the paper with ID \"1605.08386v1\"\n",
    "search_by_id = arxiv.Search(id_list=[\"1605.08386v1\"])\n",
    "# Reuse client to fetch the paper, then print its title.\n",
    "first_result = next(client.results(search))\n",
    "print(first_result.title)"
   ]
  },
  {
   "cell_type": "code",
   "execution_count": 14,
   "metadata": {},
   "outputs": [
    {
     "name": "stderr",
     "output_type": "stream",
     "text": [
      "C:\\Users\\masam\\AppData\\Local\\Temp\\ipykernel_4948\\882519286.py:12: DeprecationWarning: The 'Search.results' method is deprecated, use 'Client.results' instead\n",
      "  for result in search.results():\n"
     ]
    },
    {
     "name": "stdout",
     "output_type": "stream",
     "text": [
      "タイトル: Opening the black box of deep learning\n",
      "著者: Dian Lei, Xiaoxiao Chen, Jianfei Zhao\n",
      "概要: The great success of deep learning shows that its technology contains\n",
      "profound truth, and understanding its internal mechanism not only has important\n",
      "implications for the development of its technology …\n",
      "公開日: 2018-05-22 02:12:33+00:00\n",
      "PDFリンク: http://arxiv.org/pdf/1805.08355v1\n",
      "==================================================\n",
      "タイトル: Deep learning research landscape & roadmap in a nutshell: past, present and future -- Towards deep cortical learning\n",
      "著者: Aras R. Dargazany\n",
      "概要: The past, present and future of deep learning is presented in this work.\n",
      "Given this landscape & roadmap, we predict that deep cortical learning will be\n",
      "the convergence of deep learning & cortical lear …\n",
      "公開日: 2019-07-30 16:57:38+00:00\n",
      "PDFリンク: http://arxiv.org/pdf/1908.02130v1\n",
      "==================================================\n",
      "タイトル: Concept-Oriented Deep Learning\n",
      "著者: Daniel T Chang\n",
      "概要: Concepts are the foundation of human deep learning, understanding, and\n",
      "knowledge integration and transfer. We propose concept-oriented deep learning\n",
      "(CODL) which extends (machine) deep learning with c …\n",
      "公開日: 2018-06-05 15:50:30+00:00\n",
      "PDFリンク: http://arxiv.org/pdf/1806.01756v1\n",
      "==================================================\n",
      "タイトル: A First Look at Deep Learning Apps on Smartphones\n",
      "著者: Mengwei Xu, Jiawei Liu, Yuanqiang Liu, Felix Xiaozhu Lin, Yunxin Liu, Xuanzhe Liu\n",
      "概要: We are in the dawn of deep learning explosion for smartphones. To bridge the\n",
      "gap between research and practice, we present the first empirical study on\n",
      "16,500 the most popular Android apps, demystifyi …\n",
      "公開日: 2018-11-08 07:59:23+00:00\n",
      "PDFリンク: http://arxiv.org/pdf/1812.05448v4\n",
      "==================================================\n",
      "タイトル: Geometrization of deep networks for the interpretability of deep learning systems\n",
      "著者: Xiao Dong, Ling Zhou\n",
      "概要: How to understand deep learning systems remains an open problem. In this\n",
      "paper we propose that the answer may lie in the geometrization of deep\n",
      "networks. Geometrization is a bridge to connect physics, …\n",
      "公開日: 2019-01-06 14:32:45+00:00\n",
      "PDFリンク: http://arxiv.org/pdf/1901.02354v2\n",
      "==================================================\n"
     ]
    }
   ],
   "source": [
    "import arxiv\n",
    "\n",
    "# \"deep learning\"というキーワードで論文を検索。最大5件を取得。\n",
    "search = arxiv.Search(\n",
    "    query=\"deep learning\",\n",
    "    max_results=5,\n",
    "    sort_by=arxiv.SortCriterion.Relevance,\n",
    "    sort_order=arxiv.SortOrder.Descending\n",
    ")\n",
    "\n",
    "# 検索結果をイテレーションで取得して出力\n",
    "for result in search.results():\n",
    "    print(\"タイトル:\", result.title)\n",
    "    print(\"著者:\", \", \".join([author.name for author in result.authors]))\n",
    "    print(\"概要:\", result.summary[:200], \"…\")  # 概要は先頭200文字だけ表示\n",
    "    print(\"公開日:\", result.published)\n",
    "    print(\"PDFリンク:\", result.pdf_url)\n",
    "    print(\"=\" * 50)\n"
   ]
  },
  {
   "cell_type": "markdown",
   "metadata": {},
   "source": [
    "#### Reference\n",
    "\n",
    "https://github.com/lukasschwab/arxiv.py"
   ]
  },
  {
   "cell_type": "markdown",
   "metadata": {},
   "source": [
    "<hr>"
   ]
  },
  {
   "cell_type": "markdown",
   "metadata": {},
   "source": [
    "https://arxiv.org/search/advanced?advanced=&terms-0-operator=AND&terms-0-term=sound&terms-0-field=all&classification-physics_archives=all&classification-include_cross_list=include&date-filter_by=past_12&date-year=&date-from_date=&date-to_date=&date-date_type=submitted_date&abstracts=show&size=50&order=-announced_date_first"
   ]
  },
  {
   "cell_type": "markdown",
   "metadata": {},
   "source": [
    "https://arxiv.org/search/advanced?advanced=&terms-0-operator=AND&terms-0-term=sound&terms-0-field=all&classification-physics_archives=all&classification-include_cross_list=include&date-filter_by=all_dates&date-year=&date-from_date=&date-to_date=&date-date_type=submitted_date&abstracts=show&size=50&include_older_versions=y&order=-announced_date_first"
   ]
  },
  {
   "cell_type": "markdown",
   "metadata": {},
   "source": [
    "https://arxiv.org/search/advanced?advanced=&terms-0-operator=AND&terms-0-term=sound&terms-0-field=all&terms-1-operator=AND&terms-1-term=application&terms-1-field=all&classification-physics_archives=all&classification-include_cross_list=include&date-filter_by=all_dates&date-year=&date-from_date=&date-to_date=&date-date_type=submitted_date&abstracts=show&size=50&include_older_versions=y&order=-announced_date_first"
   ]
  },
  {
   "cell_type": "markdown",
   "metadata": {},
   "source": [
    "https://arxiv.org/search/advanced?advanced=&terms-0-operator=AND&terms-0-term=sound&terms-0-field=all&terms-1-operator=AND&terms-1-term=application&terms-1-field=all&classification-mathematics=y&classification-physics_archives=all&classification-include_cross_list=include&date-filter_by=all_dates&date-year=&date-from_date=&date-to_date=&date-date_type=submitted_date&abstracts=show&size=100&include_older_versions=y&order=-announced_date_first"
   ]
  },
  {
   "cell_type": "code",
   "execution_count": null,
   "metadata": {},
   "outputs": [],
   "source": []
  },
  {
   "cell_type": "markdown",
   "metadata": {},
   "source": [
    "https://arxiv.org/search/advanced?advanced=&terms-0-operator=AND&terms-0-term=&terms-0-field=title&classification-computer_science=y&classification-economics=y&classification-eess=y&classification-mathematics=y&classification-physics=y&classification-physics_archives=all&classification-q_biology=y&classification-q_finance=y&classification-statistics=y&classification-include_cross_list=include&date-filter_by=all_dates&date-year=&date-from_date=&date-to_date=&date-date_type=submitted_date&abstracts=show&size=50&include_older_versions=y&order=-announced_date_first"
   ]
  },
  {
   "cell_type": "markdown",
   "metadata": {},
   "source": []
  }
 ],
 "metadata": {
  "kernelspec": {
   "display_name": "3.12.8",
   "language": "python",
   "name": "python3"
  },
  "language_info": {
   "codemirror_mode": {
    "name": "ipython",
    "version": 3
   },
   "file_extension": ".py",
   "mimetype": "text/x-python",
   "name": "python",
   "nbconvert_exporter": "python",
   "pygments_lexer": "ipython3",
   "version": "3.12.8"
  }
 },
 "nbformat": 4,
 "nbformat_minor": 2
}
