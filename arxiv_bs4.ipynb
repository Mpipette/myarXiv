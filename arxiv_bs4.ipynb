{
 "cells": [
  {
   "cell_type": "code",
   "execution_count": 16,
   "id": "964b537a",
   "metadata": {},
   "outputs": [],
   "source": [
    "from bs4 import BeautifulSoup\n",
    "import lxml\n",
    "import requests"
   ]
  },
  {
   "cell_type": "code",
   "execution_count": 17,
   "id": "97bb8f74",
   "metadata": {},
   "outputs": [],
   "source": [
    "url_path = 'https://arxiv.org/search/advanced?advanced=&terms-0-operator=AND&terms-0-term=sound&terms-0-field=all&classification-physics=y&classification-physics_archives=all&classification-include_cross_list=include&date-filter_by=all_dates&date-year=&date-from_date=&date-to_date=&date-date_type=submitted_date&abstracts=show&size=50&order=-announced_date_first&start=0'"
   ]
  },
  {
   "cell_type": "code",
   "execution_count": 20,
   "id": "8891bea1",
   "metadata": {},
   "outputs": [],
   "source": [
    "response = requests.get(url = url_path)\n",
    "soup = BeautifulSoup(response.text, 'lxml')"
   ]
  },
  {
   "cell_type": "code",
   "execution_count": 32,
   "id": "fede1860",
   "metadata": {},
   "outputs": [
    {
     "name": "stdout",
     "output_type": "stream",
     "text": [
      "リンク検出数 : 50\n",
      "<class 'str'>\n",
      "https://arxiv.org/abs/2503.18740\n"
     ]
    }
   ],
   "source": [
    "content_soup = soup.find('div',attrs={'class':'content'})\n",
    "link_lst = content_soup.find_all(lambda tag: tag.name == 'a' and 'arXiv:' in tag.text)\n",
    "print('リンク検出数 :',len(link_lst))\n",
    "sample_link = link_lst[20].get('href')\n",
    "print(type(sample_link))\n",
    "print(sample_link)"
   ]
  },
  {
   "cell_type": "code",
   "execution_count": null,
   "id": "d8775f1c",
   "metadata": {},
   "outputs": [],
   "source": []
  },
  {
   "cell_type": "code",
   "execution_count": 42,
   "id": "6c49856c",
   "metadata": {},
   "outputs": [],
   "source": [
    "import arxiv\n",
    "from urllib.parse import urlparse"
   ]
  },
  {
   "cell_type": "code",
   "execution_count": 44,
   "id": "d2aa1d2c",
   "metadata": {},
   "outputs": [
    {
     "name": "stdout",
     "output_type": "stream",
     "text": [
      "ParseResult(scheme='https', netloc='arxiv.org', path='/abs/2503.18740', params='', query='', fragment='')\n",
      "['abs', '2503.18740']\n"
     ]
    }
   ],
   "source": [
    "parsed_url = urlparse(sample_link)\n",
    "print(parsed_url)\n",
    "path = s = parsed_url.path.strip('/').split('/')\n",
    "print(path)"
   ]
  },
  {
   "cell_type": "code",
   "execution_count": 54,
   "id": "583f33ea",
   "metadata": {},
   "outputs": [
    {
     "name": "stdout",
     "output_type": "stream",
     "text": [
      "<class 'arxiv.Result'>\n",
      "http://arxiv.org/abs/2503.18740v1\n"
     ]
    }
   ],
   "source": [
    "client = arxiv.Client()\n",
    "article_response = arxiv.Search(\n",
    "    id_list=['2503.18740']\n",
    ")\n",
    "result = next(client.results(article_response))\n",
    "print(type(result))\n",
    "print(result)\n"
   ]
  },
  {
   "cell_type": "code",
   "execution_count": 56,
   "id": "c8be9a3e",
   "metadata": {},
   "outputs": [
    {
     "name": "stdout",
     "output_type": "stream",
     "text": [
      "entry_id : http://arxiv.org/abs/2503.18740v1\n",
      "updated :  2025-03-24 14:50:01+00:00\n",
      "published :  2025-03-24 14:50:01+00:00\n",
      "title :  Duality Symmetry in Causality Constraints for Enhanced Acoustic Absorption\n",
      "authors :  [arxiv.Result.Author('Sichao Qu'), arxiv.Result.Author('Min Yang'), arxiv.Result.Author('Sibo Huang'), arxiv.Result.Author('Shuohan Liu'), arxiv.Result.Author('Erqian Dong'), arxiv.Result.Author('Helios Y. Li'), arxiv.Result.Author('Ping Sheng'), arxiv.Result.Author('I. David Abrahams'), arxiv.Result.Author('Nicholas X. Fang')]\n",
      "summary :  We derive a generalized causality constraint for acoustic reflection and\n",
      "transmission for a flat slab with finite thickness, via the duality\n",
      "transformation. It is known that achieving the upper limit of the causality\n",
      "constraint necessitates a critical coupling condition to optimize absorption\n",
      "bandwidth within a specified material thickness. However, the importance of\n",
      "duality symmetry has been overlooked in this context. Our analytical model\n",
      "demonstrates that optimal absorption in a 2-port setup not only relies on the\n",
      "well-established critical coupling but also requires duality symmetry, defined\n",
      "as the invariance under duality transformation. To verify our theoretical\n",
      "prediction, we have experimentally realized customized metamaterials that\n",
      "exhibit quasi-duality symmetry. This was achieved by inducing global degeneracy\n",
      "between the first-order monopole and dipole resonances, consequently realizing\n",
      "an exceptionally large sound absorption capacity as permitted by the proposed\n",
      "causality constraint. Our findings elucidate the intrinsic connection between\n",
      "duality symmetry and scattering causality, and they facilitate the exploitation\n",
      "of the untapped potential in existing passive absorbers for wave transport\n",
      "control.\n",
      "comment :  None\n",
      "journal_ref :  None\n",
      "doi :  None\n",
      "primary_category :  physics.app-ph\n",
      "categories :  ['physics.app-ph', 'physics.class-ph']\n",
      "links :  [arxiv.Result.Link('http://arxiv.org/abs/2503.18740v1', title=None, rel='alternate', content_type=None), arxiv.Result.Link('http://arxiv.org/pdf/2503.18740v1', title='pdf', rel='related', content_type=None)]\n",
      "pdf_url :  http://arxiv.org/pdf/2503.18740v1\n",
      "_raw :  {'id': 'http://arxiv.org/abs/2503.18740v1', 'guidislink': True, 'link': 'http://arxiv.org/abs/2503.18740v1', 'updated': '2025-03-24T14:50:01Z', 'updated_parsed': time.struct_time(tm_year=2025, tm_mon=3, tm_mday=24, tm_hour=14, tm_min=50, tm_sec=1, tm_wday=0, tm_yday=83, tm_isdst=0), 'published': '2025-03-24T14:50:01Z', 'published_parsed': time.struct_time(tm_year=2025, tm_mon=3, tm_mday=24, tm_hour=14, tm_min=50, tm_sec=1, tm_wday=0, tm_yday=83, tm_isdst=0), 'title': 'Duality Symmetry in Causality Constraints for Enhanced Acoustic\\n  Absorption', 'title_detail': {'type': 'text/plain', 'language': None, 'base': '', 'value': 'Duality Symmetry in Causality Constraints for Enhanced Acoustic\\n  Absorption'}, 'summary': 'We derive a generalized causality constraint for acoustic reflection and\\ntransmission for a flat slab with finite thickness, via the duality\\ntransformation. It is known that achieving the upper limit of the causality\\nconstraint necessitates a critical coupling condition to optimize absorption\\nbandwidth within a specified material thickness. However, the importance of\\nduality symmetry has been overlooked in this context. Our analytical model\\ndemonstrates that optimal absorption in a 2-port setup not only relies on the\\nwell-established critical coupling but also requires duality symmetry, defined\\nas the invariance under duality transformation. To verify our theoretical\\nprediction, we have experimentally realized customized metamaterials that\\nexhibit quasi-duality symmetry. This was achieved by inducing global degeneracy\\nbetween the first-order monopole and dipole resonances, consequently realizing\\nan exceptionally large sound absorption capacity as permitted by the proposed\\ncausality constraint. Our findings elucidate the intrinsic connection between\\nduality symmetry and scattering causality, and they facilitate the exploitation\\nof the untapped potential in existing passive absorbers for wave transport\\ncontrol.', 'summary_detail': {'type': 'text/plain', 'language': None, 'base': '', 'value': 'We derive a generalized causality constraint for acoustic reflection and\\ntransmission for a flat slab with finite thickness, via the duality\\ntransformation. It is known that achieving the upper limit of the causality\\nconstraint necessitates a critical coupling condition to optimize absorption\\nbandwidth within a specified material thickness. However, the importance of\\nduality symmetry has been overlooked in this context. Our analytical model\\ndemonstrates that optimal absorption in a 2-port setup not only relies on the\\nwell-established critical coupling but also requires duality symmetry, defined\\nas the invariance under duality transformation. To verify our theoretical\\nprediction, we have experimentally realized customized metamaterials that\\nexhibit quasi-duality symmetry. This was achieved by inducing global degeneracy\\nbetween the first-order monopole and dipole resonances, consequently realizing\\nan exceptionally large sound absorption capacity as permitted by the proposed\\ncausality constraint. Our findings elucidate the intrinsic connection between\\nduality symmetry and scattering causality, and they facilitate the exploitation\\nof the untapped potential in existing passive absorbers for wave transport\\ncontrol.'}, 'authors': [{'name': 'Sichao Qu'}, {'name': 'Min Yang'}, {'name': 'Sibo Huang'}, {'name': 'Shuohan Liu'}, {'name': 'Erqian Dong'}, {'name': 'Helios Y. Li'}, {'name': 'Ping Sheng'}, {'name': 'I. David Abrahams'}, {'name': 'Nicholas X. Fang'}], 'author_detail': {'name': 'Nicholas X. Fang'}, 'author': 'Nicholas X. Fang', 'links': [{'href': 'http://arxiv.org/abs/2503.18740v1', 'rel': 'alternate', 'type': 'text/html'}, {'title': 'pdf', 'href': 'http://arxiv.org/pdf/2503.18740v1', 'rel': 'related', 'type': 'application/pdf'}], 'arxiv_primary_category': {'term': 'physics.app-ph', 'scheme': 'http://arxiv.org/schemas/atom'}, 'tags': [{'term': 'physics.app-ph', 'scheme': 'http://arxiv.org/schemas/atom', 'label': None}, {'term': 'physics.class-ph', 'scheme': 'http://arxiv.org/schemas/atom', 'label': None}]}\n"
     ]
    }
   ],
   "source": [
    "print('entry_id :', result.entry_id)\n",
    "print('updated : ', result.updated)\n",
    "print('published : ', result.published)\n",
    "print('title : ',result.title)\n",
    "print('authors : ', result.authors)\n",
    "print('summary : ', result.summary)\n",
    "print('comment : ', result.comment)\n",
    "print('journal_ref : ', result.journal_ref)\n",
    "print('doi : ', result.doi)\n",
    "print('primary_category : ', result.primary_category)\n",
    "print('categories : ', result.categories)\n",
    "print('links : ', result.links)\n",
    "print('pdf_url : ', result.pdf_url)\n",
    "print('_raw : ', result._raw)"
   ]
  },
  {
   "cell_type": "code",
   "execution_count": 58,
   "id": "c9a148a8",
   "metadata": {},
   "outputs": [
    {
     "name": "stdout",
     "output_type": "stream",
     "text": [
      "{'arxiv_primary_category': {'scheme': 'http://arxiv.org/schemas/atom',\n",
      "                            'term': 'physics.app-ph'},\n",
      " 'author': 'Nicholas X. Fang',\n",
      " 'author_detail': {'name': 'Nicholas X. Fang'},\n",
      " 'authors': [{'name': 'Sichao Qu'},\n",
      "             {'name': 'Min Yang'},\n",
      "             {'name': 'Sibo Huang'},\n",
      "             {'name': 'Shuohan Liu'},\n",
      "             {'name': 'Erqian Dong'},\n",
      "             {'name': 'Helios Y. Li'},\n",
      "             {'name': 'Ping Sheng'},\n",
      "             {'name': 'I. David Abrahams'},\n",
      "             {'name': 'Nicholas X. Fang'}],\n",
      " 'guidislink': True,\n",
      " 'id': 'http://arxiv.org/abs/2503.18740v1',\n",
      " 'link': 'http://arxiv.org/abs/2503.18740v1',\n",
      " 'links': [{'href': 'http://arxiv.org/abs/2503.18740v1',\n",
      "            'rel': 'alternate',\n",
      "            'type': 'text/html'},\n",
      "           {'href': 'http://arxiv.org/pdf/2503.18740v1',\n",
      "            'rel': 'related',\n",
      "            'title': 'pdf',\n",
      "            'type': 'application/pdf'}],\n",
      " 'published': '2025-03-24T14:50:01Z',\n",
      " 'published_parsed': time.struct_time(tm_year=2025, tm_mon=3, tm_mday=24, tm_hour=14, tm_min=50, tm_sec=1, tm_wday=0, tm_yday=83, tm_isdst=0),\n",
      " 'summary': 'We derive a generalized causality constraint for acoustic '\n",
      "            'reflection and\\n'\n",
      "            'transmission for a flat slab with finite thickness, via the '\n",
      "            'duality\\n'\n",
      "            'transformation. It is known that achieving the upper limit of the '\n",
      "            'causality\\n'\n",
      "            'constraint necessitates a critical coupling condition to optimize '\n",
      "            'absorption\\n'\n",
      "            'bandwidth within a specified material thickness. However, the '\n",
      "            'importance of\\n'\n",
      "            'duality symmetry has been overlooked in this context. Our '\n",
      "            'analytical model\\n'\n",
      "            'demonstrates that optimal absorption in a 2-port setup not only '\n",
      "            'relies on the\\n'\n",
      "            'well-established critical coupling but also requires duality '\n",
      "            'symmetry, defined\\n'\n",
      "            'as the invariance under duality transformation. To verify our '\n",
      "            'theoretical\\n'\n",
      "            'prediction, we have experimentally realized customized '\n",
      "            'metamaterials that\\n'\n",
      "            'exhibit quasi-duality symmetry. This was achieved by inducing '\n",
      "            'global degeneracy\\n'\n",
      "            'between the first-order monopole and dipole resonances, '\n",
      "            'consequently realizing\\n'\n",
      "            'an exceptionally large sound absorption capacity as permitted by '\n",
      "            'the proposed\\n'\n",
      "            'causality constraint. Our findings elucidate the intrinsic '\n",
      "            'connection between\\n'\n",
      "            'duality symmetry and scattering causality, and they facilitate '\n",
      "            'the exploitation\\n'\n",
      "            'of the untapped potential in existing passive absorbers for wave '\n",
      "            'transport\\n'\n",
      "            'control.',\n",
      " 'summary_detail': {'base': '',\n",
      "                    'language': None,\n",
      "                    'type': 'text/plain',\n",
      "                    'value': 'We derive a generalized causality constraint for '\n",
      "                             'acoustic reflection and\\n'\n",
      "                             'transmission for a flat slab with finite '\n",
      "                             'thickness, via the duality\\n'\n",
      "                             'transformation. It is known that achieving the '\n",
      "                             'upper limit of the causality\\n'\n",
      "                             'constraint necessitates a critical coupling '\n",
      "                             'condition to optimize absorption\\n'\n",
      "                             'bandwidth within a specified material thickness. '\n",
      "                             'However, the importance of\\n'\n",
      "                             'duality symmetry has been overlooked in this '\n",
      "                             'context. Our analytical model\\n'\n",
      "                             'demonstrates that optimal absorption in a 2-port '\n",
      "                             'setup not only relies on the\\n'\n",
      "                             'well-established critical coupling but also '\n",
      "                             'requires duality symmetry, defined\\n'\n",
      "                             'as the invariance under duality transformation. '\n",
      "                             'To verify our theoretical\\n'\n",
      "                             'prediction, we have experimentally realized '\n",
      "                             'customized metamaterials that\\n'\n",
      "                             'exhibit quasi-duality symmetry. This was '\n",
      "                             'achieved by inducing global degeneracy\\n'\n",
      "                             'between the first-order monopole and dipole '\n",
      "                             'resonances, consequently realizing\\n'\n",
      "                             'an exceptionally large sound absorption capacity '\n",
      "                             'as permitted by the proposed\\n'\n",
      "                             'causality constraint. Our findings elucidate the '\n",
      "                             'intrinsic connection between\\n'\n",
      "                             'duality symmetry and scattering causality, and '\n",
      "                             'they facilitate the exploitation\\n'\n",
      "                             'of the untapped potential in existing passive '\n",
      "                             'absorbers for wave transport\\n'\n",
      "                             'control.'},\n",
      " 'tags': [{'label': None,\n",
      "           'scheme': 'http://arxiv.org/schemas/atom',\n",
      "           'term': 'physics.app-ph'},\n",
      "          {'label': None,\n",
      "           'scheme': 'http://arxiv.org/schemas/atom',\n",
      "           'term': 'physics.class-ph'}],\n",
      " 'title': 'Duality Symmetry in Causality Constraints for Enhanced Acoustic\\n'\n",
      "          '  Absorption',\n",
      " 'title_detail': {'base': '',\n",
      "                  'language': None,\n",
      "                  'type': 'text/plain',\n",
      "                  'value': 'Duality Symmetry in Causality Constraints for '\n",
      "                           'Enhanced Acoustic\\n'\n",
      "                           '  Absorption'},\n",
      " 'updated': '2025-03-24T14:50:01Z',\n",
      " 'updated_parsed': time.struct_time(tm_year=2025, tm_mon=3, tm_mday=24, tm_hour=14, tm_min=50, tm_sec=1, tm_wday=0, tm_yday=83, tm_isdst=0)}\n"
     ]
    }
   ],
   "source": [
    "from pprint import pprint\n",
    "article_dic = result._raw\n",
    "pprint(article_dic)"
   ]
  },
  {
   "cell_type": "code",
   "execution_count": null,
   "id": "5dd63168",
   "metadata": {},
   "outputs": [],
   "source": []
  }
 ],
 "metadata": {
  "kernelspec": {
   "display_name": "3.12.8",
   "language": "python",
   "name": "python3"
  },
  "language_info": {
   "codemirror_mode": {
    "name": "ipython",
    "version": 3
   },
   "file_extension": ".py",
   "mimetype": "text/x-python",
   "name": "python",
   "nbconvert_exporter": "python",
   "pygments_lexer": "ipython3",
   "version": "3.12.8"
  }
 },
 "nbformat": 4,
 "nbformat_minor": 5
}
